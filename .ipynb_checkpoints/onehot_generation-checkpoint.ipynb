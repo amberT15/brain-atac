{
 "cells": [
  {
   "cell_type": "code",
   "execution_count": 2,
   "metadata": {},
   "outputs": [],
   "source": [
    "from Bio import SeqIO\n",
    "import pandas as pd\n",
    "import numpy as np\n",
    "import os,sys,h5py"
   ]
  },
  {
   "cell_type": "code",
   "execution_count": null,
   "metadata": {},
   "outputs": [],
   "source": [
    "#sort bed file by chromosme, split into train/test/validation set\n",
    "#chr 1,3,5 for testing;\n",
    "#chr 7,9 for validation;\n",
    "#rest for training\n",
    "\n",
    "target_vec = {}\n",
    "target_vec['test'] = []\n",
    "target_vec['valid'] = []\n",
    "target_vec['train'] = []\n",
    "test_bed = open(\"test.bed\", \"w\")\n",
    "valid_bed = open(\"valid.bed\", \"w\")\n",
    "train_bed = open(\"train.bed\", \"w\")\n",
    "\n",
    "bed_f = open('./data/output_basic.bed')\n",
    "\n",
    "for line in bed_f:\n",
    "    \n",
    "    chrom = line.split('\\t')[0]\n",
    "    class_list = line.split('\\t')[3]\n",
    "    class_list = exp_list.split(',')\n",
    "    \n",
    "    if chrom == 'chr7' or 'chr9':\n",
    "        valid_bed.write(line) \n",
    "        target_vec['valid'].append(class_list)\n",
    "    elif chrom == 'chr1' or 'chr3' or 'chr5':\n",
    "        test_bed.write(line) \n",
    "        target_vec['test'].append(class_list)\n",
    "    else:\n",
    "        train_bed.write(line) \n",
    "        target_vec['train'].append(class_list)\n",
    "        "
   ]
  },
  {
   "cell_type": "code",
   "execution_count": null,
   "metadata": {},
   "outputs": [],
   "source": [
    "#get fasta file from bed file. \n",
    "#change here for reference genome and input bed file\n",
    "cmd = '''bedtools getfasta -fi ./data/GRCm38.fa -bed \n",
    "        ./data/output_basic.bed -s -fo output_basic.fa'''\n",
    "subprocess.call(cmd, shell=True)"
   ]
  },
  {
   "cell_type": "code",
   "execution_count": null,
   "metadata": {},
   "outputs": [],
   "source": [
    "#read in label and generate vector\n",
    "label_vec = []\n",
    "bed_f = open('./data/output_basic.bed')\n",
    "for line in bed_f:\n",
    "    class_list = line.split('\\t')[3]\n",
    "    class_list = exp_list.split(',')\n",
    "    label_vec.append(class_list)\n",
    "label_vec = np.array(label_vec)"
   ]
  }
 ],
 "metadata": {
  "kernelspec": {
   "display_name": "Python 3",
   "language": "python",
   "name": "python3"
  },
  "language_info": {
   "codemirror_mode": {
    "name": "ipython",
    "version": 3
   },
   "file_extension": ".py",
   "mimetype": "text/x-python",
   "name": "python",
   "nbconvert_exporter": "python",
   "pygments_lexer": "ipython3",
   "version": "3.7.0b3"
  }
 },
 "nbformat": 4,
 "nbformat_minor": 4
}
