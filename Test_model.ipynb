{
 "cells": [
  {
   "cell_type": "code",
   "execution_count": 24,
   "metadata": {},
   "outputs": [],
   "source": [
    "from __future__ import absolute_import, division, print_function, unicode_literals\n",
    "import tensorflow as tf\n",
    "import numpy as np\n",
    "import pandas as pd\n",
    "import h5py,os\n",
    "\n",
    "import model_structure\n",
    "import importlib\n",
    "importlib.reload(model_structure)\n",
    "\n",
    "import matplotlib as plt\n",
    "import seaborn as sns\n",
    "from sklearn.metrics import roc_curve\n",
    "from progressbar import ProgressBar\n",
    "from sklearn.metrics import auc\n",
    "import matplotlib.pyplot as plt\n",
    "datadir = '/mnt/1a18a49e-9a31-4dbf-accd-3fb8abbfab2d/brain_atac/data'"
   ]
  },
  {
   "cell_type": "code",
   "execution_count": 2,
   "metadata": {},
   "outputs": [],
   "source": [
    "#5 output for basic, 21 for major, \n",
    "f = h5py.File(datadir+'/output_basic.h5','r')\n",
    "x_test = f['test_seq']\n",
    "y_test = f['test_label']\n",
    "x_train = f['train_seq']\n",
    "y_train = f['train_label']\n",
    "x_valid = f['valid_seq']\n",
    "y_valid = f['valid_label']\n",
    "save_model = datadir+'/model/filtered_model.h5'"
   ]
  },
  {
   "cell_type": "code",
   "execution_count": 3,
   "metadata": {},
   "outputs": [
    {
     "name": "stderr",
     "output_type": "stream",
     "text": [
      "100% |########################################################################|\n",
      "100% |########################################################################|\n",
      "100% |########################################################################|\n"
     ]
    }
   ],
   "source": [
    "b_y_train= model_structure.filter_dataset(y_train[:,0],0.05)\n",
    "b_y_test= model_structure.filter_dataset(y_test[:,0],0.05)\n",
    "b_y_valid= model_structure.filter_dataset(y_valid[:,0],0.05)"
   ]
  },
  {
   "cell_type": "code",
   "execution_count": 4,
   "metadata": {
    "scrolled": false
   },
   "outputs": [
    {
     "name": "stdout",
     "output_type": "stream",
     "text": [
      "Model: \"model\"\n",
      "_________________________________________________________________\n",
      "Layer (type)                 Output Shape              Param #   \n",
      "=================================================================\n",
      "input_1 (InputLayer)         [(None, 4999, 4)]         0         \n",
      "_________________________________________________________________\n",
      "conv1d (Conv1D)              (None, 4999, 32)          672       \n",
      "_________________________________________________________________\n",
      "batch_normalization (BatchNo (None, 4999, 32)          128       \n",
      "_________________________________________________________________\n",
      "activation (Activation)      (None, 4999, 32)          0         \n",
      "_________________________________________________________________\n",
      "conv1d_1 (Conv1D)            (None, 4999, 32)          5152      \n",
      "_________________________________________________________________\n",
      "batch_normalization_1 (Batch (None, 4999, 32)          128       \n",
      "_________________________________________________________________\n",
      "activation_1 (Activation)    (None, 4999, 32)          0         \n",
      "_________________________________________________________________\n",
      "conv1d_2 (Conv1D)            (None, 4999, 32)          5152      \n",
      "_________________________________________________________________\n",
      "batch_normalization_2 (Batch (None, 4999, 32)          128       \n",
      "_________________________________________________________________\n",
      "activation_2 (Activation)    (None, 4999, 32)          0         \n",
      "_________________________________________________________________\n",
      "max_pooling1d (MaxPooling1D) (None, 2499, 32)          0         \n",
      "_________________________________________________________________\n",
      "conv1d_3 (Conv1D)            (None, 2499, 32)          5152      \n",
      "_________________________________________________________________\n",
      "batch_normalization_3 (Batch (None, 2499, 32)          128       \n",
      "_________________________________________________________________\n",
      "activation_3 (Activation)    (None, 2499, 32)          0         \n",
      "_________________________________________________________________\n",
      "conv1d_4 (Conv1D)            (None, 2499, 32)          5152      \n",
      "_________________________________________________________________\n",
      "batch_normalization_4 (Batch (None, 2499, 32)          128       \n",
      "_________________________________________________________________\n",
      "activation_4 (Activation)    (None, 2499, 32)          0         \n",
      "_________________________________________________________________\n",
      "conv1d_5 (Conv1D)            (None, 2499, 32)          5152      \n",
      "_________________________________________________________________\n",
      "batch_normalization_5 (Batch (None, 2499, 32)          128       \n",
      "_________________________________________________________________\n",
      "activation_5 (Activation)    (None, 2499, 32)          0         \n",
      "_________________________________________________________________\n",
      "max_pooling1d_1 (MaxPooling1 (None, 1249, 32)          0         \n",
      "_________________________________________________________________\n",
      "flatten (Flatten)            (None, 39968)             0         \n",
      "_________________________________________________________________\n",
      "dense (Dense)                (None, 50)                1998450   \n",
      "_________________________________________________________________\n",
      "dense_1 (Dense)              (None, 50)                2550      \n",
      "_________________________________________________________________\n",
      "dense_2 (Dense)              (None, 1)                 51        \n",
      "=================================================================\n",
      "Total params: 2,028,251\n",
      "Trainable params: 2,027,867\n",
      "Non-trainable params: 384\n",
      "_________________________________________________________________\n"
     ]
    }
   ],
   "source": [
    "model = model_structure.CNN_dense((4999,4),1)\n",
    "model.summary()"
   ]
  },
  {
   "cell_type": "code",
   "execution_count": 5,
   "metadata": {},
   "outputs": [],
   "source": [
    "earlystop = tf.keras.callbacks.EarlyStopping(monitor='val_loss', \n",
    "                                             min_delta=0, \n",
    "                                             patience=5, \n",
    "                                             verbose=1, \n",
    "                                             mode='min', \n",
    "                                             baseline=None, restore_best_weights=True)\n",
    "\n",
    "reduce_lr = tf.keras.callbacks.ReduceLROnPlateau(monitor='val_loss', \n",
    "                                                 factor=0.5,\n",
    "                                                 patience=5, \n",
    "                                                 min_lr=1e-7,\n",
    "                                                 mode='min',\n",
    "                                                 verbose=1)\n",
    "\n",
    "checkpoint = tf.keras.callbacks.ModelCheckpoint(save_model, \n",
    "                                                monitor='val_loss', \n",
    "                                                verbose=1, \n",
    "                                                save_best_only=True, \n",
    "                                                mode='min')"
   ]
  },
  {
   "cell_type": "code",
   "execution_count": 6,
   "metadata": {},
   "outputs": [
    {
     "name": "stdout",
     "output_type": "stream",
     "text": [
      "Train on 436419 samples, validate on 26708 samples\n",
      "Epoch 1/200\n",
      "436352/436419 [============================>.] - ETA: 0s - loss: 0.1185 - accuracy: 0.9729 - auroc: 0.7733 - aupr: 0.9902\n",
      "Epoch 00001: val_loss improved from inf to 0.12143, saving model to /mnt/1a18a49e-9a31-4dbf-accd-3fb8abbfab2d/brain_atac/data/model/filtered_model.h5\n",
      "436419/436419 [==============================] - 239s 548us/sample - loss: 0.1185 - accuracy: 0.9730 - auroc: 0.7733 - aupr: 0.9902 - val_loss: 0.1214 - val_accuracy: 0.9657 - val_auroc: 0.8462 - val_aupr: 0.9931\n",
      "Epoch 2/200\n",
      "436352/436419 [============================>.] - ETA: 0s - loss: 0.1027 - accuracy: 0.9734 - auroc: 0.8178 - aupr: 0.9929\n",
      "Epoch 00002: val_loss did not improve from 0.12143\n",
      "436419/436419 [==============================] - 229s 524us/sample - loss: 0.1027 - accuracy: 0.9734 - auroc: 0.8178 - aupr: 0.9929 - val_loss: 0.1715 - val_accuracy: 0.9632 - val_auroc: 0.8593 - val_aupr: 0.9939\n",
      "Epoch 3/200\n",
      "436416/436419 [============================>.] - ETA: 0s - loss: 0.1000 - accuracy: 0.9733 - auroc: 0.8339 - aupr: 0.9937\n",
      "Epoch 00003: val_loss improved from 0.12143 to 0.11768, saving model to /mnt/1a18a49e-9a31-4dbf-accd-3fb8abbfab2d/brain_atac/data/model/filtered_model.h5\n",
      "436419/436419 [==============================] - 227s 521us/sample - loss: 0.1000 - accuracy: 0.9733 - auroc: 0.8339 - aupr: 0.9937 - val_loss: 0.1177 - val_accuracy: 0.9658 - val_auroc: 0.8664 - val_aupr: 0.9940\n",
      "Epoch 4/200\n",
      "436416/436419 [============================>.] - ETA: 0s - loss: 0.0972 - accuracy: 0.9734 - auroc: 0.8484 - aupr: 0.9942\n",
      "Epoch 00004: val_loss did not improve from 0.11768\n",
      "436419/436419 [==============================] - 226s 519us/sample - loss: 0.0972 - accuracy: 0.9734 - auroc: 0.8484 - aupr: 0.9942 - val_loss: 0.1189 - val_accuracy: 0.9656 - val_auroc: 0.8603 - val_aupr: 0.9935\n",
      "Epoch 5/200\n",
      "436416/436419 [============================>.] - ETA: 0s - loss: 0.0940 - accuracy: 0.9736 - auroc: 0.8613 - aupr: 0.9947\n",
      "Epoch 00005: val_loss did not improve from 0.11768\n",
      "436419/436419 [==============================] - 226s 518us/sample - loss: 0.0940 - accuracy: 0.9736 - auroc: 0.8613 - aupr: 0.9947 - val_loss: 0.1198 - val_accuracy: 0.9654 - val_auroc: 0.8553 - val_aupr: 0.9930\n",
      "Epoch 6/200\n",
      "436416/436419 [============================>.] - ETA: 0s - loss: 0.0890 - accuracy: 0.9740 - auroc: 0.8789 - aupr: 0.9954\n",
      "Epoch 00006: val_loss did not improve from 0.11768\n",
      "436419/436419 [==============================] - 226s 519us/sample - loss: 0.0890 - accuracy: 0.9740 - auroc: 0.8789 - aupr: 0.9954 - val_loss: 0.1242 - val_accuracy: 0.9634 - val_auroc: 0.8436 - val_aupr: 0.9931\n",
      "Epoch 7/200\n",
      "436416/436419 [============================>.] - ETA: 0s - loss: 0.0833 - accuracy: 0.9750 - auroc: 0.8954 - aupr: 0.9960\n",
      "Epoch 00007: val_loss did not improve from 0.11768\n",
      "436419/436419 [==============================] - 225s 516us/sample - loss: 0.0833 - accuracy: 0.9750 - auroc: 0.8954 - aupr: 0.9960 - val_loss: 0.1307 - val_accuracy: 0.9645 - val_auroc: 0.8300 - val_aupr: 0.9909\n",
      "Epoch 8/200\n",
      "436416/436419 [============================>.] - ETA: 0s - loss: 0.0773 - accuracy: 0.9769 - auroc: 0.9101 - aupr: 0.9965Restoring model weights from the end of the best epoch.\n",
      "\n",
      "Epoch 00008: ReduceLROnPlateau reducing learning rate to 0.0005000000237487257.\n",
      "\n",
      "Epoch 00008: val_loss did not improve from 0.11768\n",
      "436419/436419 [==============================] - 227s 520us/sample - loss: 0.0773 - accuracy: 0.9769 - auroc: 0.9101 - aupr: 0.9965 - val_loss: 0.1292 - val_accuracy: 0.9642 - val_auroc: 0.8130 - val_aupr: 0.9908\n",
      "Epoch 00008: early stopping\n"
     ]
    }
   ],
   "source": [
    "training = model.fit(x_train[()],b_y_train,\n",
    "                    epochs=200,\n",
    "                    batch_size = 64,\n",
    "                    callbacks = [earlystop,reduce_lr,checkpoint], \n",
    "                    validation_data = (x_valid[()],b_y_valid)\n",
    "                    )"
   ]
  },
  {
   "cell_type": "code",
   "execution_count": 9,
   "metadata": {},
   "outputs": [],
   "source": [
    "#model = tf.keras.models.load_model(datadir+'/model/filtered_model.h5')\n",
    "y_pred = model.predict(x_test[()])\n",
    "#model.evaluate(x_test[()],b_y_test)"
   ]
  },
  {
   "cell_type": "code",
   "execution_count": 25,
   "metadata": {},
   "outputs": [
    {
     "data": {
      "image/png": "[encoded data removed]",
      "text/plain": [
       "<Figure size 432x288 with 1 Axes>"
      ]
     },
     "metadata": {
      "needs_background": "light"
     },
     "output_type": "display_data"
    },
    {
     "data": {
      "image/png": "[encoded data removed]",
      "text/plain": [
       "<Figure size 432x288 with 1 Axes>"
      ]
     },
     "metadata": {
      "needs_background": "light"
     },
     "output_type": "display_data"
    }
   ],
   "source": [
    "model_structure.curve_figure(y_pred,b_y_test,1)"
   ]
  },
  {
   "cell_type": "code",
   "execution_count": 22,
   "metadata": {},
   "outputs": [
    {
     "data": {
      "text/plain": [
       "array([[0.        , 0.00222177, 0.00094967, 0.00081833, 0.00181159],\n",
       "       [0.00174825, 0.00989699, 0.00949668, 0.00081833, 0.00362319],\n",
       "       [0.        , 0.00080792, 0.00094967, 0.        , 0.0009058 ],\n",
       "       ...,\n",
       "       [0.0034965 , 0.00040396, 0.00094967, 0.00081833, 0.        ],\n",
       "       [0.00174825, 0.00121188, 0.002849  , 0.        , 0.00181159],\n",
       "       [0.0034965 , 0.00181781, 0.00094967, 0.        , 0.0009058 ]],\n",
       "      dtype=float32)"
      ]
     },
     "execution_count": 22,
     "metadata": {},
     "output_type": "execute_result"
    }
   ],
   "source": [
    "y_test[()]"
   ]
  },
  {
   "cell_type": "code",
   "execution_count": null,
   "metadata": {},
   "outputs": [],
   "source": []
  }
 ],
 "metadata": {
  "kernelspec": {
   "display_name": "Python 3",
   "language": "python",
   "name": "python3"
  },
  "language_info": {
   "codemirror_mode": {
    "name": "ipython",
    "version": 3
   },
   "file_extension": ".py",
   "mimetype": "text/x-python",
   "name": "python",
   "nbconvert_exporter": "python",
   "pygments_lexer": "ipython3",
   "version": "3.7.0b3"
  }
 },
 "nbformat": 4,
 "nbformat_minor": 4
}
