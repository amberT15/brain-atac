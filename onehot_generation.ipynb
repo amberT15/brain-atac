{
 "cells": [
  {
   "cell_type": "code",
   "execution_count": 7,
   "metadata": {},
   "outputs": [],
   "source": [
    "from Bio import SeqIO\n",
    "import subprocess\n",
    "import pandas as pd\n",
    "import numpy as np\n",
    "import os,sys,h5py\n",
    "datadir = os.path.join(os.getcwd(), '..', 'data')"
   ]
  },
  {
   "cell_type": "code",
   "execution_count": 8,
   "metadata": {},
   "outputs": [],
   "source": [
    "rev_dict_alleles = {'A':0,'T':1,'U':1,'C':2,'G':3}\n",
    "\n",
    "def parse_fasta(fasta_file):\n",
    "    #read in fasta file. Return array of sequence\n",
    "    fasta_sequences = SeqIO.parse(open(fasta_file),'fasta')\n",
    "    sequences = []\n",
    "    for fasta in fasta_sequences:\n",
    "        sequences.append(str(fasta.seq))\n",
    "    sequences = np.array(sequences)\n",
    "    return sequences\n",
    "\n",
    "\n",
    "def generate_onehot(sequence):\n",
    "    #filter nonsese sequence\n",
    "    filtered_list = []\n",
    "    filtered_sequences = []\n",
    "    for index in range(len(sequence)):\n",
    "        seq = sequence[index]\n",
    "        if 'N' not in seq.upper():\n",
    "            filtered_sequences.append(seq)\n",
    "        else:\n",
    "            filtered_list.append(index)\n",
    "            \n",
    "    #generate one_hot matrix\n",
    "    one_hot_total = []\n",
    "    for seq in filtered_sequences:\n",
    "        seq = seq.upper()\n",
    "        seq_length = len(seq)\n",
    "        one_hot = np.zeros((seq_length,4))\n",
    "        for idx in range(seq_length):\n",
    "            one_hot[idx,rev_dict_alleles[seq[idx]]] = 1\n",
    "        \n",
    "        one_hot_total.append(one_hot)\n",
    "        \n",
    "    one_hot_total = np.array(one_hot_total)\n",
    "\n",
    "    return one_hot_total,filtered_list"
   ]
  },
  {
   "cell_type": "code",
   "execution_count": 9,
   "metadata": {},
   "outputs": [],
   "source": [
    "#sort bed file by chromosme, split into train/test/validation set\n",
    "#chr 1,3,5 for testing;\n",
    "#chr 7,9 for validation;\n",
    "#rest for training\n",
    "count = 0\n",
    "\n",
    "target_vec = {}\n",
    "target_vec['test'] = []\n",
    "target_vec['valid'] = []\n",
    "target_vec['train'] = []\n",
    "test_bed = open(\"test.bed\", \"w\")\n",
    "valid_bed = open(\"valid.bed\", \"w\")\n",
    "train_bed = open(\"train.bed\", \"w\")\n",
    "\n",
    "bed_f = open(datadir + '/output_sub.bed')\n",
    "bed_f.readline()\n",
    "\n",
    "for line in bed_f:\n",
    "    \n",
    "    chrom = line.split('\\t')[0]\n",
    "    class_list = line[:-1].split('\\t')[3]\n",
    "    class_list =class_list.split(',')\n",
    "    class_list = [float(i) for i in class_list] \n",
    "\n",
    "    if chrom == ('chr7' or 'chr9'):\n",
    "        valid_bed.write(line) \n",
    "        target_vec['valid'].append(class_list)\n",
    "        \n",
    "    elif chrom == ('chr1' or 'chr3' or 'chr5'):\n",
    "        test_bed.write(line) \n",
    "        target_vec['test'].append(class_list)\n",
    "    \n",
    "    else:\n",
    "        train_bed.write(line) \n",
    "        target_vec['train'].append(class_list)\n",
    "        \n",
    "test_bed.close()\n",
    "train_bed.close()\n",
    "valid_bed.close()     "
   ]
  },
  {
   "cell_type": "code",
   "execution_count": 10,
   "metadata": {
    "scrolled": true
   },
   "outputs": [
    {
     "data": {
      "text/plain": [
       "0"
      ]
     },
     "execution_count": 10,
     "metadata": {},
     "output_type": "execute_result"
    }
   ],
   "source": [
    "#get fasta file from bed file. \n",
    "#change here for reference genome and input bed file\n",
    "for file in ['test','train','valid']:\n",
    "    cmd = 'bedtools getfasta -fi ' + datadir +'/GRCm38.fa -bed '+ file + '.bed -s -fo '+ datadir +'/'+ file+'.fa'\n",
    "    subprocess.call(cmd, shell=True)\n",
    "    \n",
    "subprocess.call('rm ./*.bed', shell=True)"
   ]
  },
  {
   "cell_type": "code",
   "execution_count": 11,
   "metadata": {},
   "outputs": [
    {
     "name": "stdout",
     "output_type": "stream",
     "text": [
      "38134\n",
      "test_seq\n",
      "436419\n",
      "train_seq\n",
      "26708\n",
      "valid_seq\n"
     ]
    }
   ],
   "source": [
    "#convert fasta to onehot and store in .h5 file\n",
    "output = h5py.File(datadir+'/output_sub.h5','w')\n",
    "for file in ['test','train','valid']:\n",
    "    fasta_path = datadir+'/'+file+'.fa'\n",
    "    sequence = parse_fasta(fasta_path)\n",
    "    seq_onehot,filtered_list = generate_onehot(sequence)\n",
    "    seq_vec = target_vec[file]\n",
    "    seq_vec = [i for j, i in enumerate(seq_vec) if j not in filtered_list]\n",
    "    \n",
    "    if seq_onehot.shape[0] != len(seq_vec):\n",
    "        print('error')\n",
    "        break\n",
    "    else:\n",
    "        print(len(seq_vec))\n",
    "        \n",
    "    output.create_dataset(file+'_seq', data=seq_onehot, dtype='float32', compression=\"gzip\")\n",
    "    output.create_dataset(file+'_label', data=seq_vec, dtype='float32', compression=\"gzip\")\n",
    "    print(file+'_seq')"
   ]
  },
  {
   "cell_type": "code",
   "execution_count": 12,
   "metadata": {},
   "outputs": [
    {
     "data": {
      "text/plain": [
       "0"
      ]
     },
     "execution_count": 12,
     "metadata": {},
     "output_type": "execute_result"
    }
   ],
   "source": [
    "subprocess.call('rm ' + datadir +'/test.fa ' + datadir +'/train.fa ' + datadir +'/valid.fa', shell=True)"
   ]
  },
  {
   "cell_type": "code",
   "execution_count": null,
   "metadata": {},
   "outputs": [],
   "source": []
  }
 ],
 "metadata": {
  "kernelspec": {
   "display_name": "Python 3",
   "language": "python",
   "name": "python3"
  },
  "language_info": {
   "codemirror_mode": {
    "name": "ipython",
    "version": 3
   },
   "file_extension": ".py",
   "mimetype": "text/x-python",
   "name": "python",
   "nbconvert_exporter": "python",
   "pygments_lexer": "ipython3",
   "version": "3.7.0b3"
  }
 },
 "nbformat": 4,
 "nbformat_minor": 4
}
